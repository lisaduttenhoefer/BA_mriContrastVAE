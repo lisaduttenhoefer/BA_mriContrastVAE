{
 "cells": [
  {
   "cell_type": "code",
   "execution_count": null,
   "metadata": {},
   "outputs": [],
   "source": [
    "import matplotlib.pyplot as plt\n",
    "import os\n",
    "from PIL import Image\n",
    "\n",
    "# Liste deiner gespeicherten Bilddateien\n",
    "image_paths = [\n",
    "    \"plot1.png\",\n",
    "    \"plot2.png\",\n",
    "    \"plot3.png\",\n",
    "    \"plot4.png\"\n",
    "]\n",
    "\n",
    "# Rastergröße automatisch festlegen (z. B. 2x2 für 4 Bilder)\n",
    "rows, cols = 2, 2  \n",
    "fig, axes = plt.subplots(rows, cols, figsize=(10, 10))\n",
    "\n",
    "# Bilder laden und im Grid anzeigen\n",
    "for i, img_path in enumerate(image_paths):\n",
    "    img = Image.open(img_path)\n",
    "    ax = axes[i // cols, i % cols]  # Position im Raster bestimmen\n",
    "    ax.imshow(img)\n",
    "    ax.axis(\"off\")  # Achsen ausblenden\n",
    "    ax.set_title(os.path.basename(img_path))  # Bildname als Titel setzen\n",
    "\n",
    "plt.tight_layout()\n",
    "plt.show()\n"
   ]
  }
 ],
 "metadata": {
  "language_info": {
   "name": "python"
  }
 },
 "nbformat": 4,
 "nbformat_minor": 2
}
