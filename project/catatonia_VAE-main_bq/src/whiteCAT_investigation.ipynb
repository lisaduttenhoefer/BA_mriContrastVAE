{
 "cells": [
  {
   "cell_type": "code",
   "execution_count": 1,
   "metadata": {},
   "outputs": [],
   "source": [
    "import pandas as pd\n",
    "import matplotlib.pyplot as plt\n",
    "import seaborn as sns\n",
    "import numpy as np\n",
    "from scipy import stats"
   ]
  },
  {
   "cell_type": "code",
   "execution_count": 2,
   "metadata": {},
   "outputs": [],
   "source": [
    "\n",
    "metadata_df_path_whiteCAT = \"/workspace/project/catatonia_VAE-main_bq/metadata_20250110/meta_data_whiteCAT_all_variables.csv\"\n",
    "metadata_df_path_NSS = \"/workspace/project/catatonia_VAE-main_bq/metadata_20250110/meta_data_NSS_all_variables.csv\"\n",
    "metadata_df_wC = pd.read_csv(metadata_df_path_whiteCAT)\n",
    "metadata_df_NSS = pd.read_csv(metadata_df_path_NSS)"
   ]
  },
  {
   "cell_type": "code",
   "execution_count": 3,
   "metadata": {},
   "outputs": [],
   "source": [
    "\n",
    "def extract_dois_by_diagnosis_df_wC(df):\n",
    "    \"\"\"Extrahiert DOIs gruppiert nach Diagnose als DataFrame\"\"\"\n",
    "    return df.groupby('Diagnosis')['duration_illness'].apply(lambda x: x.tolist()).reset_index()\n",
    "\n",
    "def extract_dois_by_diagnosis_df_NSS(df):\n",
    "    \"\"\"Extrahiert DOIs gruppiert nach Diagnose als DataFrame\"\"\"\n",
    "    return df.groupby('Diagnosis')['DOI'].apply(lambda x: x.tolist()).reset_index()\n",
    "\n",
    "\n",
    "def analyze_disease_duration(df, dataset_name):\n",
    "    \"\"\"\n",
    "    Analysiert die Krankheitsdauer nach Diagnosen\n",
    "    \"\"\"\n",
    "    print(f\"\\n{'='*50}\")\n",
    "    print(f\"ANALYSE: {dataset_name}\")\n",
    "    print(f\"{'='*50}\")\n",
    "    \n",
    "    # Verfügbare Spalten anzeigen (um die richtige Krankheitsdauer-Spalte zu finden)\n",
    "    print(\"Verfügbare Spalten:\")\n",
    "    print(df.columns.tolist())\n",
    "    \n",
    "    # Häufige Spaltennamen für Krankheitsdauer\n",
    "    duration_columns = [col for col in df.columns if any(keyword in col.lower() \n",
    "                       for keyword in ['DOI', 'duration_illness'])]\n",
    "    \n",
    "    print(f\"\\nMögliche Krankheitsdauer-Spalten: {duration_columns}\")\n",
    "    \n",
    "    return duration_columns\n",
    "\n",
    "def create_duration_analysis(df, duration_col, diagnosis_col='Diagnose', dataset_name='Dataset'):\n",
    "    \"\"\"\n",
    "    Erstellt umfassende Analyse der Krankheitsdauer\n",
    "    \"\"\"\n",
    "    # Daten bereinigen\n",
    "    clean_df = df.dropna(subset=[duration_col, diagnosis_col])\n",
    "    \n",
    "    print(f\"\\n=== STATISTISCHE ÜBERSICHT - {dataset_name} ===\")\n",
    "    \n",
    "    # Grundlegende Statistiken\n",
    "    duration_stats = clean_df.groupby(diagnosis_col)[duration_col].agg([\n",
    "        'count', 'mean', 'median', 'std', 'min', 'max'\n",
    "    ]).round(2)\n",
    "    \n",
    "    print(duration_stats)\n",
    "    return duration_stats, clean_df\n",
    "\n",
    "\n",
    "\n",
    "def compare_datasets(df_wC, df_NSS, duration_col_wC, duration_col_NSS):\n",
    "    \"\"\"\n",
    "    Vergleicht die Krankheitsdauer zwischen WhiteCAT und NSS\n",
    "    \"\"\"\n",
    "    print(f\"\\n{'='*60}\")\n",
    "    print(\"VERGLEICH ZWISCHEN WHITECAT UND NSS\")\n",
    "    print(f\"{'='*60}\")\n",
    "    \n",
    "    # Gesamtvergleich\n",
    "    wC_durations = df_wC[duration_col_wC].dropna()\n",
    "    NSS_durations = df_NSS[duration_col_NSS].dropna()\n",
    "    \n",
    "    print(f\"WhiteCAT - Durchschnittliche Krankheitsdauer: {wC_durations.mean():.2f}\")\n",
    "    print(f\"NSS - Durchschnittliche Krankheitsdauer: {NSS_durations.mean():.2f}\")\n",
    "    \n",
    "    # Statistischer Test\n",
    "    t_stat, p_value = stats.ttest_ind(wC_durations, NSS_durations)\n",
    "    print(f\"\\nt-Test zwischen Datasets:\")\n",
    "    print(f\"t-Statistik: {t_stat:.4f}\")\n",
    "    print(f\"p-Wert: {p_value:.4f}\")\n",
    "    \n",
    "    if p_value < 0.05:\n",
    "        if wC_durations.mean() > NSS_durations.mean():\n",
    "            print(\"→ WhiteCAT-Patienten sind signifikant länger erkrankt\")\n",
    "        else:\n",
    "            print(\"→ NSS-Patienten sind signifikant länger erkrankt\")\n",
    "    else:\n",
    "        print(\"→ Kein signifikanter Unterschied zwischen den Datasets\")"
   ]
  },
  {
   "cell_type": "code",
   "execution_count": 4,
   "metadata": {},
   "outputs": [],
   "source": [
    "dois_df_wC = extract_dois_by_diagnosis_df_wC(metadata_df_wC)\n",
    "dois_df_NSS = extract_dois_by_diagnosis_df_NSS(metadata_df_NSS)"
   ]
  },
  {
   "cell_type": "code",
   "execution_count": 5,
   "metadata": {},
   "outputs": [
    {
     "name": "stdout",
     "output_type": "stream",
     "text": [
      "\n",
      "=== STATISTISCHE ÜBERSICHT - WhiteCAT ===\n",
      "           count   mean  median    std  min   max\n",
      "Diagnosis                                        \n",
      "CTT           63  14.75    10.0  13.55  0.0  49.0\n",
      "SCHZ          95  11.89    11.0  10.20  0.0  46.0\n",
      "\n",
      "=== STATISTISCHE ÜBERSICHT - NSS ===\n",
      "           count   mean  median    std  min   max\n",
      "Diagnosis                                        \n",
      "CTT           12  10.33     6.5  11.49  0.0  37.0\n",
      "SCHZ         105  10.70     8.0  10.81  0.0  40.0\n"
     ]
    }
   ],
   "source": [
    "duration_col_wC = 'duration_illness'\n",
    "duration_col_NSS = 'DOI'\n",
    "stats_wC, clean_wC = create_duration_analysis(metadata_df_wC, duration_col_wC, 'Diagnosis', 'WhiteCAT')\n",
    "stats_NSS, clean_NSS = create_duration_analysis(metadata_df_NSS, duration_col_NSS, 'Diagnosis', 'NSS')"
   ]
  },
  {
   "cell_type": "code",
   "execution_count": 6,
   "metadata": {},
   "outputs": [
    {
     "name": "stdout",
     "output_type": "stream",
     "text": [
      "\n",
      "============================================================\n",
      "VERGLEICH ZWISCHEN WHITECAT UND NSS\n",
      "============================================================\n",
      "WhiteCAT - Durchschnittliche Krankheitsdauer: 13.03\n",
      "NSS - Durchschnittliche Krankheitsdauer: 10.66\n",
      "\n",
      "t-Test zwischen Datasets:\n",
      "t-Statistik: 1.7165\n",
      "p-Wert: 0.0872\n",
      "→ Kein signifikanter Unterschied zwischen den Datasets\n"
     ]
    }
   ],
   "source": [
    "\n",
    "compare_datasets(clean_wC, clean_NSS, duration_col_wC, duration_col_NSS)"
   ]
  }
 ],
 "metadata": {
  "kernelspec": {
   "display_name": "base",
   "language": "python",
   "name": "python3"
  },
  "language_info": {
   "codemirror_mode": {
    "name": "ipython",
    "version": 3
   },
   "file_extension": ".py",
   "mimetype": "text/x-python",
   "name": "python",
   "nbconvert_exporter": "python",
   "pygments_lexer": "ipython3",
   "version": "3.10.8"
  }
 },
 "nbformat": 4,
 "nbformat_minor": 2
}
